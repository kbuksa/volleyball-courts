{
 "cells": [
  {
   "cell_type": "markdown",
   "metadata": {},
   "source": [
    "# Volleyball Data handling\n",
    "\n",
    "This notebook will be used handling data regarding volleyball courts, taken from the datasets supplied by Active Places Power, Sport England (https://www.activeplacespower.com/pages/downloads#download)  "
   ]
  },
  {
   "cell_type": "code",
   "execution_count": 1,
   "metadata": {},
   "outputs": [],
   "source": [
    "# import pandas\n",
    "\n",
    "import pandas as pd"
   ]
  },
  {
   "cell_type": "markdown",
   "metadata": {},
   "source": [
    "# Dataset Information\n",
    "\n",
    "## sportshalls.csv\n",
    "\n",
    "This dataset stores data about various sports halls around England, informing about the different courts available, the size of halls, etc.\n",
    "\n",
    "## sites.csv\n",
    "\n",
    "This dataset stores information about the sites themselves, as the sports halls do not store the name and information about the location itself, which I will have to use the siteID from sportshalls.csv to link to the siteID in sites.csv"
   ]
  },
  {
   "cell_type": "code",
   "execution_count": 2,
   "metadata": {},
   "outputs": [],
   "source": [
    "# read sports hall csv\n",
    "sports_halls = pd.read_csv('activeplacescsvs/sportshalls.csv', low_memory=False)\n",
    "\n",
    "# read sites information csv\n",
    "sites = pd.read_csv('activeplacescsvs/sites.csv')"
   ]
  },
  {
   "cell_type": "code",
   "execution_count": 3,
   "metadata": {},
   "outputs": [
    {
     "name": "stdout",
     "output_type": "stream",
     "text": [
      "<class 'pandas.core.frame.DataFrame'>\n",
      "RangeIndex: 14372 entries, 0 to 14371\n",
      "Data columns (total 65 columns):\n",
      " #   Column                                         Non-Null Count  Dtype  \n",
      "---  ------                                         --------------  -----  \n",
      " 0   Badminton Courts                               14371 non-null  float64\n",
      " 1   Basketball Courts                              14371 non-null  float64\n",
      " 2   Clearance exists - Ball / shuttlecock          14371 non-null  float64\n",
      " 3   Cricket Nets                                   14371 non-null  float64\n",
      " 4   Dimensions Estimate                            14372 non-null  int64  \n",
      " 5   Facility ID                                    14372 non-null  int64  \n",
      " 6   Five-A-Side Pitches                            14371 non-null  float64\n",
      " 7   Floor Matting                                  14371 non-null  float64\n",
      " 8   Futsal Courts                                  6264 non-null   float64\n",
      " 9   Gymnastics / Trampoline Use                    14371 non-null  float64\n",
      " 10  Length                                         14371 non-null  float64\n",
      " 11  Moveable Balance Apparatus                     14371 non-null  float64\n",
      " 12  Moveable Large Apparatus                       14371 non-null  float64\n",
      " 13  Moveable Rebound Apparatus                     14372 non-null  int64  \n",
      " 14  Moveable Trampolines                           14372 non-null  int64  \n",
      " 15  Netball Courts                                 14372 non-null  int64  \n",
      " 16  Small Apparatus                                14372 non-null  int64  \n",
      " 17  Swinging and Hanging Apparatus                 14372 non-null  int64  \n",
      " 18  Area                                           14371 non-null  float64\n",
      " 19  Volleyball Courts                              14372 non-null  int64  \n",
      " 20  Width                                          14372 non-null  float64\n",
      " 21  Has changing rooms?                            14372 non-null  int64  \n",
      " 22  Are changing rooms refurbished?                14372 non-null  int64  \n",
      " 23  Year changing rooms refurbished                4319 non-null   float64\n",
      " 24  Changing Place Toilets                         14372 non-null  int64  \n",
      " 25  Closure Reason                                 2674 non-null   float64\n",
      " 26  Disability: Activity Area                      14372 non-null  int64  \n",
      " 27  Disability: Changing Facilities                14372 non-null  int64  \n",
      " 28  Disability: Doorways                           14372 non-null  int64  \n",
      " 29  Disability: Emergency Exits                    14372 non-null  int64  \n",
      " 30  Disability: Finding and reaching the entrance  14372 non-null  int64  \n",
      " 31  Disability Notes                               1342 non-null   object \n",
      " 32  Disability: Parking                            14372 non-null  int64  \n",
      " 33  Disability: Reception Area                     14372 non-null  int64  \n",
      " 34  Disability: Social Areas                       14372 non-null  int64  \n",
      " 35  Disability: Spectator Areas                    14372 non-null  int64  \n",
      " 36  Disability: Toilets                            14372 non-null  int64  \n",
      " 37  Facility Subtype                               14372 non-null  int64  \n",
      " 38  Facility Type                                  14372 non-null  int64  \n",
      " 39  Operational Status                             14372 non-null  int64  \n",
      " 40  Operational Status Notes                       1030 non-null   object \n",
      " 41  Meets Active Places Criteria                   14372 non-null  int64  \n",
      " 42  Date Opened                                    231 non-null    object \n",
      " 43  Expected Opening Date                          6 non-null      object \n",
      " 44  Operator Name                                  632 non-null    object \n",
      " 45  Closed Date                                    2674 non-null   object \n",
      " 46  Created Date                                   1995 non-null   object \n",
      " 47  Last Updated Date                              14372 non-null  object \n",
      " 48  Is Refurbished?                                14372 non-null  int64  \n",
      " 49  End Month                                      14372 non-null  int64  \n",
      " 50  Start Month                                    14372 non-null  int64  \n",
      " 51  Seasonality Type                               14372 non-null  int64  \n",
      " 52  Site ID                                        14372 non-null  int64  \n",
      " 53  Timing Type                                    14372 non-null  int64  \n",
      " 54  Year Built                                     14187 non-null  float64\n",
      " 55  Year Built Estimated?                          14372 non-null  int64  \n",
      " 56  Year Refurbished                               4028 non-null   float64\n",
      " 57  Easting                                        14372 non-null  int64  \n",
      " 58  Northing                                       14372 non-null  int64  \n",
      " 59  Latitude                                       14372 non-null  float64\n",
      " 60  Longitude                                      14372 non-null  float64\n",
      " 61  Management Type (Text)                         14372 non-null  object \n",
      " 62  Management Type Group (Text)                   14372 non-null  object \n",
      " 63  Accessibility Type (Text)                      14372 non-null  object \n",
      " 64  Accessibility Type Group (Text)                14372 non-null  object \n",
      "dtypes: float64(19), int64(34), object(12)\n",
      "memory usage: 7.1+ MB\n"
     ]
    }
   ],
   "source": [
    "sports_halls.info()"
   ]
  },
  {
   "cell_type": "code",
   "execution_count": 4,
   "metadata": {},
   "outputs": [
    {
     "name": "stdout",
     "output_type": "stream",
     "text": [
      "<class 'pandas.core.frame.DataFrame'>\n",
      "RangeIndex: 41981 entries, 0 to 41980\n",
      "Data columns (total 79 columns):\n",
      " #   Column                                         Non-Null Count  Dtype  \n",
      "---  ------                                         --------------  -----  \n",
      " 0   Active Partnership Code                        41943 non-null  object \n",
      " 1   Active Partnership Name                        41981 non-null  object \n",
      " 2   Cycle Hire?                                    41981 non-null  int64  \n",
      " 3   Building Name                                  11487 non-null  object \n",
      " 4   Building Number                                3254 non-null   float64\n",
      " 5   Car Park Capacity                              41980 non-null  float64\n",
      " 6   Car Park Exists?                               41981 non-null  int64  \n",
      " 7   Changing Place Toilets                         41981 non-null  int64  \n",
      " 8   Closure Reason                                 4970 non-null   float64\n",
      " 9   Core City Name                                 2658 non-null   object \n",
      " 10  County Code                                    16200 non-null  object \n",
      " 11  County Name                                    16219 non-null  object \n",
      " 12  Has Cricket Bowling Machine(s)?                41981 non-null  int64  \n",
      " 13  Cycle Park?                                    41981 non-null  int64  \n",
      " 14  Dependent Locality                             15547 non-null  object \n",
      " 15  Dependent Thorough Fare                        717 non-null    object \n",
      " 16  Disability: Activity Area                      41981 non-null  int64  \n",
      " 17  Disability: Changing Facilities                41981 non-null  int64  \n",
      " 18  Disability: Doorways                           41981 non-null  int64  \n",
      " 19  Disability: Emergency Exits                    41981 non-null  int64  \n",
      " 20  Disability: Finding and reaching the entrance  41981 non-null  int64  \n",
      " 21  Disability Notes                               5822 non-null   object \n",
      " 22  Disability: Parking                            41981 non-null  int64  \n",
      " 23  Disability: Reception Area                     41981 non-null  int64  \n",
      " 24  Disability: Social Areas                       41981 non-null  int64  \n",
      " 25  Disability: Spectator Areas                    41981 non-null  int64  \n",
      " 26  Disability: Toilets                            41981 non-null  int64  \n",
      " 27  Double Dependent Locality                      1230 non-null   object \n",
      " 28  Education Phase                                41981 non-null  int64  \n",
      " 29  Email                                          30455 non-null  object \n",
      " 30  Facebook                                       11154 non-null  object \n",
      " 31  Has First Aid Room?                            41981 non-null  int64  \n",
      " 32  Forename                                       3165 non-null   object \n",
      " 33  Job Title                                      2327 non-null   object \n",
      " 34  LDP Code                                       3991 non-null   object \n",
      " 35  LDP Name                                       3994 non-null   object \n",
      " 36  Local Authority Code                           41943 non-null  object \n",
      " 37  Local Authority Name                           41981 non-null  object \n",
      " 38  Lower Super Output Area Code                   41981 non-null  object \n",
      " 39  Middle Super Output Area Code                  41981 non-null  object \n",
      " 40  Has Nursery?                                   41981 non-null  int64  \n",
      " 41  Operator Name                                  1517 non-null   object \n",
      " 42  Output Area Code                               41981 non-null  object \n",
      " 43  Parliamentary Constituency Code                41943 non-null  object \n",
      " 44  Parliamentary Constituency Name                41981 non-null  object \n",
      " 45  Postcode                                       41981 non-null  object \n",
      " 46  Town                                           41981 non-null  object \n",
      " 47  Public Notes                                   6886 non-null   object \n",
      " 48  Last Audit Date                                41981 non-null  object \n",
      " 49  Closed Date                                    4970 non-null   object \n",
      " 50  Created Date                                   41981 non-null  object \n",
      " 51  Last Updated Date                              41981 non-null  object \n",
      " 52  Region Code                                    41943 non-null  object \n",
      " 53  Region Name                                    41981 non-null  object \n",
      " 54  Cycle Repair Workshop?                         41981 non-null  int64  \n",
      " 55  Site ID                                        41981 non-null  int64  \n",
      " 56  Site Name                                      41981 non-null  object \n",
      " 57  Management Start Date                          2961 non-null   object \n",
      " 58  Sub-Building Name                              1639 non-null   object \n",
      " 59  Surname                                        3019 non-null   object \n",
      " 60  Has Table Tennis Table(s)?                     41981 non-null  int64  \n",
      " 61  Telephone Number                               38730 non-null  object \n",
      " 62  Thoroughfare Name                              40015 non-null  object \n",
      " 63  Title                                          2824 non-null   float64\n",
      " 64  TOID                                           29434 non-null  object \n",
      " 65  Twitter/X                                      10206 non-null  object \n",
      " 66  UPRN                                           41979 non-null  float64\n",
      " 67  Ward Code                                      41943 non-null  object \n",
      " 68  Ward Name                                      41981 non-null  object \n",
      " 69  Website                                        33898 non-null  object \n",
      " 70  Easting                                        41981 non-null  int64  \n",
      " 71  Northing                                       41981 non-null  int64  \n",
      " 72  Site Alias                                     6407 non-null   object \n",
      " 73  Ownership Type (Text)                          41981 non-null  object \n",
      " 74  Management Type (Text)                         41981 non-null  object \n",
      " 75  Ownership Type Group                           41981 non-null  object \n",
      " 76  Management Type Group                          41981 non-null  object \n",
      " 77  lat                                            41981 non-null  float64\n",
      " 78  long                                           41981 non-null  float64\n",
      "dtypes: float64(7), int64(23), object(49)\n",
      "memory usage: 25.3+ MB\n"
     ]
    }
   ],
   "source": [
    "sites.info()"
   ]
  },
  {
   "cell_type": "markdown",
   "metadata": {},
   "source": [
    "# Data cleaning\n",
    "\n",
    "First step was to only select the columns that I believe to be of importance. \n",
    "\n",
    "I will require the __SiteID__ and __FacilityID__ to be able to link the information about the sports halls with the names of the facilities and locations of them.\n",
    "\n",
    "I will need to gather various information about the sports halls in regards to volleyball, such as __number of vb courts__, the __size__ of the sports halls, if they __have changing rooms__, and other information that may be useful for people.\n",
    "\n",
    "when visualising the data, there are a number of sports halls which do not have any volleyball courts available which I will have to remove from the dataset. \n",
    "\n"
   ]
  },
  {
   "cell_type": "markdown",
   "metadata": {},
   "source": [
    "## Sports halls data clean-up\n",
    "\n",
    "### Variable documentation\n",
    "\n",
    "- __sports_halls_volley__: specific columns selected of importance\n",
    "- __vb_courts_count__: count of number of vb courts occurrence\n",
    "- __filtered_vb_courts__: filtered for only records with >=1 vb courts"
   ]
  },
  {
   "cell_type": "code",
   "execution_count": 5,
   "metadata": {},
   "outputs": [
    {
     "name": "stdout",
     "output_type": "stream",
     "text": [
      "<class 'pandas.core.frame.DataFrame'>\n",
      "RangeIndex: 14372 entries, 0 to 14371\n",
      "Data columns (total 11 columns):\n",
      " #   Column             Non-Null Count  Dtype  \n",
      "---  ------             --------------  -----  \n",
      " 0   Site ID            14372 non-null  int64  \n",
      " 1   Facility ID        14372 non-null  int64  \n",
      " 2   Volleyball Courts  14372 non-null  int64  \n",
      " 3   Length             14371 non-null  float64\n",
      " 4   Width              14372 non-null  float64\n",
      " 5   Changing Rooms     14372 non-null  int64  \n",
      " 6   Facility Type      14372 non-null  int64  \n",
      " 7   Facility Subtype   14372 non-null  int64  \n",
      " 8   Latitude           14372 non-null  float64\n",
      " 9   Longitude          14372 non-null  float64\n",
      " 10  Access Type        14372 non-null  object \n",
      "dtypes: float64(4), int64(6), object(1)\n",
      "memory usage: 1.2+ MB\n"
     ]
    },
    {
     "name": "stderr",
     "output_type": "stream",
     "text": [
      "C:\\Users\\kacpe\\AppData\\Local\\Temp\\ipykernel_68196\\2485649503.py:5: SettingWithCopyWarning: \n",
      "A value is trying to be set on a copy of a slice from a DataFrame\n",
      "\n",
      "See the caveats in the documentation: https://pandas.pydata.org/pandas-docs/stable/user_guide/indexing.html#returning-a-view-versus-a-copy\n",
      "  sports_halls_volley.rename({'Has changing rooms?': 'Changing Rooms', 'Accessibility Type Group (Text)': 'Access Type'}, axis=1, inplace=True)\n"
     ]
    }
   ],
   "source": [
    "# Selecting only specific columns about sports halls\n",
    "sports_halls_volley = sports_halls[['Site ID', 'Facility ID', 'Volleyball Courts', 'Length', 'Width', 'Has changing rooms?', 'Facility Type', 'Facility Subtype', 'Latitude', 'Longitude', 'Accessibility Type Group (Text)']]\n",
    "\n",
    "# Renaming certain columns that have unnecessarily long names\n",
    "sports_halls_volley.rename({'Has changing rooms?': 'Changing Rooms', 'Accessibility Type Group (Text)': 'Access Type'}, axis=1, inplace=True)\n",
    "\n",
    "sports_halls_volley.info()"
   ]
  },
  {
   "cell_type": "code",
   "execution_count": 6,
   "metadata": {},
   "outputs": [
    {
     "data": {
      "text/html": [
       "<div>\n",
       "<style scoped>\n",
       "    .dataframe tbody tr th:only-of-type {\n",
       "        vertical-align: middle;\n",
       "    }\n",
       "\n",
       "    .dataframe tbody tr th {\n",
       "        vertical-align: top;\n",
       "    }\n",
       "\n",
       "    .dataframe thead th {\n",
       "        text-align: right;\n",
       "    }\n",
       "</style>\n",
       "<table border=\"1\" class=\"dataframe\">\n",
       "  <thead>\n",
       "    <tr style=\"text-align: right;\">\n",
       "      <th></th>\n",
       "      <th>Site ID</th>\n",
       "      <th>Facility ID</th>\n",
       "      <th>Volleyball Courts</th>\n",
       "      <th>Length</th>\n",
       "      <th>Width</th>\n",
       "      <th>Changing Rooms</th>\n",
       "      <th>Facility Type</th>\n",
       "      <th>Facility Subtype</th>\n",
       "      <th>Latitude</th>\n",
       "      <th>Longitude</th>\n",
       "      <th>Access Type</th>\n",
       "    </tr>\n",
       "  </thead>\n",
       "  <tbody>\n",
       "    <tr>\n",
       "      <th>0</th>\n",
       "      <td>1000004</td>\n",
       "      <td>2000007</td>\n",
       "      <td>0</td>\n",
       "      <td>34.5</td>\n",
       "      <td>20.0</td>\n",
       "      <td>1</td>\n",
       "      <td>6</td>\n",
       "      <td>6001</td>\n",
       "      <td>50.85914</td>\n",
       "      <td>-0.089625</td>\n",
       "      <td>Public Access</td>\n",
       "    </tr>\n",
       "    <tr>\n",
       "      <th>1</th>\n",
       "      <td>1000009</td>\n",
       "      <td>2000019</td>\n",
       "      <td>1</td>\n",
       "      <td>40.0</td>\n",
       "      <td>30.5</td>\n",
       "      <td>1</td>\n",
       "      <td>6</td>\n",
       "      <td>6001</td>\n",
       "      <td>53.26373</td>\n",
       "      <td>-2.891404</td>\n",
       "      <td>Public Access</td>\n",
       "    </tr>\n",
       "    <tr>\n",
       "      <th>2</th>\n",
       "      <td>1000010</td>\n",
       "      <td>2000022</td>\n",
       "      <td>0</td>\n",
       "      <td>18.0</td>\n",
       "      <td>17.0</td>\n",
       "      <td>1</td>\n",
       "      <td>6</td>\n",
       "      <td>6002</td>\n",
       "      <td>50.42324</td>\n",
       "      <td>-4.214078</td>\n",
       "      <td>Public Access</td>\n",
       "    </tr>\n",
       "    <tr>\n",
       "      <th>3</th>\n",
       "      <td>1000018</td>\n",
       "      <td>2000034</td>\n",
       "      <td>0</td>\n",
       "      <td>34.5</td>\n",
       "      <td>20.0</td>\n",
       "      <td>1</td>\n",
       "      <td>6</td>\n",
       "      <td>6001</td>\n",
       "      <td>51.58628</td>\n",
       "      <td>0.462723</td>\n",
       "      <td>Public Access</td>\n",
       "    </tr>\n",
       "    <tr>\n",
       "      <th>4</th>\n",
       "      <td>1000019</td>\n",
       "      <td>2000036</td>\n",
       "      <td>1</td>\n",
       "      <td>33.0</td>\n",
       "      <td>18.0</td>\n",
       "      <td>1</td>\n",
       "      <td>6</td>\n",
       "      <td>6001</td>\n",
       "      <td>52.55358</td>\n",
       "      <td>-1.897004</td>\n",
       "      <td>Public Access</td>\n",
       "    </tr>\n",
       "  </tbody>\n",
       "</table>\n",
       "</div>"
      ],
      "text/plain": [
       "   Site ID  Facility ID  Volleyball Courts  Length  Width  Changing Rooms  \\\n",
       "0  1000004      2000007                  0    34.5   20.0               1   \n",
       "1  1000009      2000019                  1    40.0   30.5               1   \n",
       "2  1000010      2000022                  0    18.0   17.0               1   \n",
       "3  1000018      2000034                  0    34.5   20.0               1   \n",
       "4  1000019      2000036                  1    33.0   18.0               1   \n",
       "\n",
       "   Facility Type  Facility Subtype  Latitude  Longitude    Access Type  \n",
       "0              6              6001  50.85914  -0.089625  Public Access  \n",
       "1              6              6001  53.26373  -2.891404  Public Access  \n",
       "2              6              6002  50.42324  -4.214078  Public Access  \n",
       "3              6              6001  51.58628   0.462723  Public Access  \n",
       "4              6              6001  52.55358  -1.897004  Public Access  "
      ]
     },
     "execution_count": 6,
     "metadata": {},
     "output_type": "execute_result"
    }
   ],
   "source": [
    "sports_halls_volley.head()"
   ]
  },
  {
   "cell_type": "code",
   "execution_count": 7,
   "metadata": {},
   "outputs": [
    {
     "name": "stdout",
     "output_type": "stream",
     "text": [
      "Volleyball Courts\n",
      "0    9634\n",
      "1    4403\n",
      "2     281\n",
      "3      40\n",
      "4      13\n",
      "8       1\n",
      "Name: count, dtype: int64\n"
     ]
    }
   ],
   "source": [
    "# Checking occurrence number of volleyball courts for each sports hall\n",
    "\n",
    "vb_courts_count = sports_halls_volley['Volleyball Courts'].value_counts()\n",
    "\n",
    "print(vb_courts_count.sort_index())"
   ]
  },
  {
   "cell_type": "code",
   "execution_count": 8,
   "metadata": {},
   "outputs": [
    {
     "name": "stdout",
     "output_type": "stream",
     "text": [
      "Facility Type\n",
      "6    4738\n",
      "Name: count, dtype: int64\n"
     ]
    }
   ],
   "source": [
    "# Remove all records with 0 vb courts\n",
    "filtered_vb_courts = sports_halls_volley[sports_halls_volley['Volleyball Courts'] > 0]\n",
    "\n",
    "print(filtered_vb_courts['Facility Type'].value_counts().sort_index())"
   ]
  },
  {
   "cell_type": "code",
   "execution_count": 9,
   "metadata": {},
   "outputs": [
    {
     "name": "stdout",
     "output_type": "stream",
     "text": [
      "Volleyball Courts\n",
      "1    4403\n",
      "2     281\n",
      "3      40\n",
      "4      13\n",
      "8       1\n",
      "Name: count, dtype: int64\n"
     ]
    }
   ],
   "source": [
    "print(filtered_vb_courts['Volleyball Courts'].value_counts().sort_index())"
   ]
  },
  {
   "cell_type": "code",
   "execution_count": 10,
   "metadata": {},
   "outputs": [
    {
     "name": "stdout",
     "output_type": "stream",
     "text": [
      "0\n"
     ]
    }
   ],
   "source": [
    "# Total of 0 sports halls with no volleyball courts\n",
    "mask = filtered_vb_courts['Volleyball Courts'] == 0\n",
    "\n",
    "print(mask.sum())"
   ]
  },
  {
   "cell_type": "code",
   "execution_count": 11,
   "metadata": {},
   "outputs": [
    {
     "data": {
      "text/html": [
       "<div>\n",
       "<style scoped>\n",
       "    .dataframe tbody tr th:only-of-type {\n",
       "        vertical-align: middle;\n",
       "    }\n",
       "\n",
       "    .dataframe tbody tr th {\n",
       "        vertical-align: top;\n",
       "    }\n",
       "\n",
       "    .dataframe thead th {\n",
       "        text-align: right;\n",
       "    }\n",
       "</style>\n",
       "<table border=\"1\" class=\"dataframe\">\n",
       "  <thead>\n",
       "    <tr style=\"text-align: right;\">\n",
       "      <th></th>\n",
       "      <th>Site ID</th>\n",
       "      <th>Facility ID</th>\n",
       "      <th>Volleyball Courts</th>\n",
       "      <th>Length</th>\n",
       "      <th>Width</th>\n",
       "      <th>Changing Rooms</th>\n",
       "      <th>Facility Type</th>\n",
       "      <th>Facility Subtype</th>\n",
       "      <th>Latitude</th>\n",
       "      <th>Longitude</th>\n",
       "      <th>Access Type</th>\n",
       "    </tr>\n",
       "  </thead>\n",
       "  <tbody>\n",
       "    <tr>\n",
       "      <th>1</th>\n",
       "      <td>1000009</td>\n",
       "      <td>2000019</td>\n",
       "      <td>1</td>\n",
       "      <td>40.0</td>\n",
       "      <td>30.5</td>\n",
       "      <td>1</td>\n",
       "      <td>6</td>\n",
       "      <td>6001</td>\n",
       "      <td>53.26373</td>\n",
       "      <td>-2.891404</td>\n",
       "      <td>Public Access</td>\n",
       "    </tr>\n",
       "    <tr>\n",
       "      <th>4</th>\n",
       "      <td>1000019</td>\n",
       "      <td>2000036</td>\n",
       "      <td>1</td>\n",
       "      <td>33.0</td>\n",
       "      <td>18.0</td>\n",
       "      <td>1</td>\n",
       "      <td>6</td>\n",
       "      <td>6001</td>\n",
       "      <td>52.55358</td>\n",
       "      <td>-1.897004</td>\n",
       "      <td>Public Access</td>\n",
       "    </tr>\n",
       "    <tr>\n",
       "      <th>11</th>\n",
       "      <td>1000056</td>\n",
       "      <td>2000107</td>\n",
       "      <td>1</td>\n",
       "      <td>34.5</td>\n",
       "      <td>20.0</td>\n",
       "      <td>1</td>\n",
       "      <td>6</td>\n",
       "      <td>6001</td>\n",
       "      <td>53.55635</td>\n",
       "      <td>-2.233766</td>\n",
       "      <td>Public Access</td>\n",
       "    </tr>\n",
       "    <tr>\n",
       "      <th>13</th>\n",
       "      <td>1000070</td>\n",
       "      <td>2000129</td>\n",
       "      <td>1</td>\n",
       "      <td>27.0</td>\n",
       "      <td>18.0</td>\n",
       "      <td>1</td>\n",
       "      <td>6</td>\n",
       "      <td>6001</td>\n",
       "      <td>51.39739</td>\n",
       "      <td>-1.298654</td>\n",
       "      <td>Public Access</td>\n",
       "    </tr>\n",
       "    <tr>\n",
       "      <th>21</th>\n",
       "      <td>1000097</td>\n",
       "      <td>2000180</td>\n",
       "      <td>1</td>\n",
       "      <td>30.0</td>\n",
       "      <td>24.0</td>\n",
       "      <td>1</td>\n",
       "      <td>6</td>\n",
       "      <td>6001</td>\n",
       "      <td>51.51729</td>\n",
       "      <td>-0.130378</td>\n",
       "      <td>Public Access</td>\n",
       "    </tr>\n",
       "  </tbody>\n",
       "</table>\n",
       "</div>"
      ],
      "text/plain": [
       "    Site ID  Facility ID  Volleyball Courts  Length  Width  Changing Rooms  \\\n",
       "1   1000009      2000019                  1    40.0   30.5               1   \n",
       "4   1000019      2000036                  1    33.0   18.0               1   \n",
       "11  1000056      2000107                  1    34.5   20.0               1   \n",
       "13  1000070      2000129                  1    27.0   18.0               1   \n",
       "21  1000097      2000180                  1    30.0   24.0               1   \n",
       "\n",
       "    Facility Type  Facility Subtype  Latitude  Longitude    Access Type  \n",
       "1               6              6001  53.26373  -2.891404  Public Access  \n",
       "4               6              6001  52.55358  -1.897004  Public Access  \n",
       "11              6              6001  53.55635  -2.233766  Public Access  \n",
       "13              6              6001  51.39739  -1.298654  Public Access  \n",
       "21              6              6001  51.51729  -0.130378  Public Access  "
      ]
     },
     "execution_count": 11,
     "metadata": {},
     "output_type": "execute_result"
    }
   ],
   "source": [
    "# Final result\n",
    "filtered_vb_courts.head()"
   ]
  },
  {
   "cell_type": "code",
   "execution_count": 12,
   "metadata": {},
   "outputs": [
    {
     "name": "stdout",
     "output_type": "stream",
     "text": [
      "Site ID              0\n",
      "Facility ID          0\n",
      "Volleyball Courts    0\n",
      "Length               0\n",
      "Width                0\n",
      "Changing Rooms       0\n",
      "Facility Type        0\n",
      "Facility Subtype     0\n",
      "Latitude             0\n",
      "Longitude            0\n",
      "Access Type          0\n",
      "dtype: int64\n"
     ]
    }
   ],
   "source": [
    "nan_vb = filtered_vb_courts.isna().sum()\n",
    "print(nan_vb)"
   ]
  },
  {
   "cell_type": "markdown",
   "metadata": {},
   "source": [
    "I now have the __filtered_vb_courts__ variable which is the cleaned version of the __sports_halls__ dataset"
   ]
  },
  {
   "cell_type": "markdown",
   "metadata": {},
   "source": [
    "## Sites data clean-up"
   ]
  },
  {
   "cell_type": "code",
   "execution_count": 13,
   "metadata": {},
   "outputs": [
    {
     "data": {
      "text/html": [
       "<div>\n",
       "<style scoped>\n",
       "    .dataframe tbody tr th:only-of-type {\n",
       "        vertical-align: middle;\n",
       "    }\n",
       "\n",
       "    .dataframe tbody tr th {\n",
       "        vertical-align: top;\n",
       "    }\n",
       "\n",
       "    .dataframe thead th {\n",
       "        text-align: right;\n",
       "    }\n",
       "</style>\n",
       "<table border=\"1\" class=\"dataframe\">\n",
       "  <thead>\n",
       "    <tr style=\"text-align: right;\">\n",
       "      <th></th>\n",
       "      <th>Site ID</th>\n",
       "      <th>Site Name</th>\n",
       "      <th>Car Park Capacity</th>\n",
       "      <th>Cycle Park?</th>\n",
       "      <th>Local Authority Name</th>\n",
       "      <th>Postcode</th>\n",
       "      <th>Town</th>\n",
       "      <th>Region Name</th>\n",
       "      <th>lat</th>\n",
       "      <th>long</th>\n",
       "    </tr>\n",
       "  </thead>\n",
       "  <tbody>\n",
       "    <tr>\n",
       "      <th>0</th>\n",
       "      <td>30010710</td>\n",
       "      <td>TEN ARCE FIELD</td>\n",
       "      <td>0.0</td>\n",
       "      <td>0</td>\n",
       "      <td>West Suffolk</td>\n",
       "      <td>IP32 7DA</td>\n",
       "      <td>BURY ST. EDMUNDS</td>\n",
       "      <td>East of England</td>\n",
       "      <td>52.24416</td>\n",
       "      <td>0.735483</td>\n",
       "    </tr>\n",
       "    <tr>\n",
       "      <th>1</th>\n",
       "      <td>30003564</td>\n",
       "      <td>EASTCOMBE SCOUT HUT PITCH</td>\n",
       "      <td>30.0</td>\n",
       "      <td>0</td>\n",
       "      <td>Stroud</td>\n",
       "      <td>GL6 7DY</td>\n",
       "      <td>STROUD</td>\n",
       "      <td>South West</td>\n",
       "      <td>51.73487</td>\n",
       "      <td>-2.157465</td>\n",
       "    </tr>\n",
       "    <tr>\n",
       "      <th>2</th>\n",
       "      <td>1005515</td>\n",
       "      <td>MOTCOMBE PARK SPORTS CLUB</td>\n",
       "      <td>400.0</td>\n",
       "      <td>1</td>\n",
       "      <td>Dorset</td>\n",
       "      <td>SP7 9QA</td>\n",
       "      <td>SHAFTESBURY</td>\n",
       "      <td>South West</td>\n",
       "      <td>51.01973</td>\n",
       "      <td>-2.216240</td>\n",
       "    </tr>\n",
       "    <tr>\n",
       "      <th>3</th>\n",
       "      <td>1008868</td>\n",
       "      <td>YORK ST JOHN UNIVERSITY (YSJACTIVE GYM)</td>\n",
       "      <td>100.0</td>\n",
       "      <td>1</td>\n",
       "      <td>York</td>\n",
       "      <td>YO31 7EX</td>\n",
       "      <td>YORK</td>\n",
       "      <td>Yorkshire and The Humber</td>\n",
       "      <td>53.96486</td>\n",
       "      <td>-1.079552</td>\n",
       "    </tr>\n",
       "    <tr>\n",
       "      <th>4</th>\n",
       "      <td>30007658</td>\n",
       "      <td>BELMONT MILL HILL PREPARATORY SCHOOL</td>\n",
       "      <td>30.0</td>\n",
       "      <td>1</td>\n",
       "      <td>Barnet</td>\n",
       "      <td>NW7 4ED</td>\n",
       "      <td>LONDON</td>\n",
       "      <td>London</td>\n",
       "      <td>51.62357</td>\n",
       "      <td>-0.234825</td>\n",
       "    </tr>\n",
       "  </tbody>\n",
       "</table>\n",
       "</div>"
      ],
      "text/plain": [
       "    Site ID                                Site Name  Car Park Capacity  \\\n",
       "0  30010710                           TEN ARCE FIELD                0.0   \n",
       "1  30003564                EASTCOMBE SCOUT HUT PITCH               30.0   \n",
       "2   1005515                MOTCOMBE PARK SPORTS CLUB              400.0   \n",
       "3   1008868  YORK ST JOHN UNIVERSITY (YSJACTIVE GYM)              100.0   \n",
       "4  30007658     BELMONT MILL HILL PREPARATORY SCHOOL               30.0   \n",
       "\n",
       "   Cycle Park? Local Authority Name  Postcode              Town  \\\n",
       "0            0         West Suffolk  IP32 7DA  BURY ST. EDMUNDS   \n",
       "1            0               Stroud   GL6 7DY            STROUD   \n",
       "2            1               Dorset   SP7 9QA       SHAFTESBURY   \n",
       "3            1                 York  YO31 7EX              YORK   \n",
       "4            1               Barnet   NW7 4ED            LONDON   \n",
       "\n",
       "                Region Name       lat      long  \n",
       "0           East of England  52.24416  0.735483  \n",
       "1                South West  51.73487 -2.157465  \n",
       "2                South West  51.01973 -2.216240  \n",
       "3  Yorkshire and The Humber  53.96486 -1.079552  \n",
       "4                    London  51.62357 -0.234825  "
      ]
     },
     "execution_count": 13,
     "metadata": {},
     "output_type": "execute_result"
    }
   ],
   "source": [
    "# Selecting only specific columns about sports halls\n",
    "sites_updated = sites[['Site ID', 'Site Name', 'Car Park Capacity', 'Cycle Park?', 'Local Authority Name', 'Postcode', 'Town', 'Region Name', 'lat', 'long']]\n",
    "\n",
    "sites_updated.head()"
   ]
  },
  {
   "cell_type": "code",
   "execution_count": 14,
   "metadata": {},
   "outputs": [],
   "source": [
    "site_disability_info = sites[['Site ID', 'Disability: Activity Area', 'Disability: Changing Facilities', 'Disability: Doorways', 'Disability: Emergency Exits', 'Disability: Finding and reaching the entrance', 'Disability: Parking', 'Disability: Reception Area', 'Disability: Social Areas', 'Disability: Spectator Areas', 'Disability: Toilets']]"
   ]
  },
  {
   "cell_type": "code",
   "execution_count": 15,
   "metadata": {},
   "outputs": [
    {
     "name": "stdout",
     "output_type": "stream",
     "text": [
      "Site ID                 0\n",
      "Site Name               0\n",
      "Car Park Capacity       1\n",
      "Cycle Park?             0\n",
      "Local Authority Name    0\n",
      "Postcode                0\n",
      "Town                    0\n",
      "Region Name             0\n",
      "lat                     0\n",
      "long                    0\n",
      "dtype: int64\n"
     ]
    }
   ],
   "source": [
    "# Find if there are any NaN values\n",
    "nan_sites = sites_updated.isna().sum()\n",
    "print(nan_sites)"
   ]
  },
  {
   "cell_type": "code",
   "execution_count": 16,
   "metadata": {},
   "outputs": [
    {
     "name": "stdout",
     "output_type": "stream",
     "text": [
      "        Site ID                  Site Name  Car Park Capacity  Cycle Park?  \\\n",
      "18801  30009987  PRINCE ALBERT HIGH SCHOOL                NaN            1   \n",
      "\n",
      "      Local Authority Name Postcode        Town    Region Name       lat  \\\n",
      "18801           Birmingham  B42 2TU  BIRMINGHAM  West Midlands  52.52111   \n",
      "\n",
      "           long  \n",
      "18801 -1.894346  \n"
     ]
    }
   ],
   "source": [
    "# Find row with NaN value \n",
    "empty = sites_updated.isna().any(axis=1)\n",
    "empty_rows = sites_updated[empty]\n",
    "print(empty_rows)"
   ]
  },
  {
   "cell_type": "code",
   "execution_count": 17,
   "metadata": {},
   "outputs": [
    {
     "name": "stdout",
     "output_type": "stream",
     "text": [
      "Site ID                 0\n",
      "Site Name               0\n",
      "Car Park Capacity       0\n",
      "Cycle Park?             0\n",
      "Local Authority Name    0\n",
      "Postcode                0\n",
      "Town                    0\n",
      "Region Name             0\n",
      "lat                     0\n",
      "long                    0\n",
      "dtype: int64\n"
     ]
    }
   ],
   "source": [
    "# Since only NaN value is in car park capacity\n",
    "# Assume car park has no space so fill with 0\n",
    "cleaned_sites = sites_updated.fillna(0)\n",
    "print(cleaned_sites.isna().sum())\n"
   ]
  }
 ],
 "metadata": {
  "kernelspec": {
   "display_name": "python_pandas",
   "language": "python",
   "name": "python3"
  },
  "language_info": {
   "codemirror_mode": {
    "name": "ipython",
    "version": 3
   },
   "file_extension": ".py",
   "mimetype": "text/x-python",
   "name": "python",
   "nbconvert_exporter": "python",
   "pygments_lexer": "ipython3",
   "version": "3.12.3"
  }
 },
 "nbformat": 4,
 "nbformat_minor": 2
}
